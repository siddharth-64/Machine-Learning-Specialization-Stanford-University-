{
 "cells": [
  {
   "cell_type": "markdown",
   "metadata": {},
   "source": [
    "# Deep Q-Learning - Lunar Lander\n",
    "\n",
    "In this assignment, you will train an agent to land a lunar lander safely on a landing pad on the surface of the moon.\n",
    "\n",
    "\n",
    "# Outline\n",
    "- [ 1 - Import Packages <img align=\"Right\" src=\"./images/lunar_lander.gif\" width = 60% >](#1)\n",
    "- [ 2 - Hyperparameters](#2)\n",
    "- [ 3 - The Lunar Lander Environment](#3)\n",
    "  - [ 3.1 Action Space](#3.1)\n",
    "  - [ 3.2 Observation Space](#3.2)\n",
    "  - [ 3.3 Rewards](#3.3)\n",
    "  - [ 3.4 Episode Termination](#3.4)\n",
    "- [ 4 - Load the Environment](#4)\n",
    "- [ 5 - Interacting with the Gym Environment](#5)\n",
    "    - [ 5.1 Exploring the Environment's Dynamics](#5.1)\n",
    "- [ 6 - Deep Q-Learning](#6)\n",
    "  - [ 6.1 Target Network](#6.1)\n",
    "    - [ Exercise 1](#ex01)\n",
    "  - [ 6.2 Experience Replay](#6.2)\n",
    "- [ 7 - Deep Q-Learning Algorithm with Experience Replay](#7)\n",
    "  - [ Exercise 2](#ex02)\n",
    "- [ 8 - Update the Network Weights](#8)\n",
    "- [ 9 - Train the Agent](#9)\n",
    "- [ 10 - See the Trained Agent In Action](#10)\n",
    "- [ 11 - Congratulations!](#11)\n",
    "- [ 12 - References](#12)\n"
   ]
  },
  {
   "cell_type": "markdown",
   "metadata": {},
   "source": [
    "_**NOTE:** To prevent errors from the autograder, you are not allowed to edit or delete non-graded cells in this lab. Please also refrain from adding any new cells. \n",
    "**Once you have passed this assignment** and want to experiment with any of the non-graded code, you may follow the instructions at the bottom of this notebook._"
   ]
  },
  {
   "cell_type": "markdown",
   "metadata": {},
   "source": [
    "<a name=\"1\"></a>\n",
    "## 1 - Import Packages\n",
    "\n",
    "We'll make use of the following packages:\n",
    "- `numpy` is a package for scientific computing in python.\n",
    "- `deque` will be our data structure for our memory buffer.\n",
    "- `namedtuple` will be used to store the experience tuples.\n",
    "- The `gym` toolkit is a collection of environments that can be used to test reinforcement learning algorithms. We should note that in this notebook we are using `gym` version `0.24.0`.\n",
    "- `PIL.Image` and `pyvirtualdisplay` are needed to render the Lunar Lander environment.\n",
    "- We will use several modules from the `tensorflow.keras` framework for building deep learning models.\n",
    "- `utils` is a module that contains helper functions for this assignment. You do not need to modify the code in this file.\n",
    "\n",
    "Run the cell below to import all the necessary packages."
   ]
  },
  {
   "cell_type": "code",
   "execution_count": 31,
   "metadata": {
    "deletable": false,
    "editable": false,
    "id": "KYbOPKRtfQOr"
   },
   "outputs": [],
   "source": [
    "import time\n",
    "from collections import deque, namedtuple\n",
    "\n",
    "import gym\n",
    "import numpy as np\n",
    "import PIL.Image\n",
    "import tensorflow as tf\n",
    "import utils\n",
    "\n",
    "from pyvirtualdisplay import Display\n",
    "from tensorflow.keras import Sequential\n",
    "from tensorflow.keras.layers import Dense, Input\n",
    "from tensorflow.keras.losses import MSE\n",
    "from tensorflow.keras.optimizers import Adam"
   ]
  },
  {
   "cell_type": "code",
   "execution_count": 32,
   "metadata": {
    "deletable": false,
    "editable": false
   },
   "outputs": [],
   "source": [
    "# Set up a virtual display to render the Lunar Lander environment.\n",
    "Display(visible=0, size=(840, 480)).start();\n",
    "\n",
    "# Set the random seed for TensorFlow\n",
    "tf.random.set_seed(utils.SEED)"
   ]
  },
  {
   "cell_type": "markdown",
   "metadata": {},
   "source": [
    "<a name=\"2\"></a>\n",
    "## 2 - Hyperparameters\n",
    "\n",
    "Run the cell below to set the hyperparameters."
   ]
  },
  {
   "cell_type": "code",
   "execution_count": 33,
   "metadata": {
    "deletable": false,
    "editable": false
   },
   "outputs": [],
   "source": [
    "MEMORY_SIZE = 100_000     # size of memory buffer\n",
    "GAMMA = 0.995             # discount factor\n",
    "ALPHA = 1e-3              # learning rate  \n",
    "NUM_STEPS_FOR_UPDATE = 4  # perform a learning update every C time steps"
   ]
  },
  {
   "cell_type": "markdown",
   "metadata": {},
   "source": [
    "<a name=\"3\"></a>\n",
    "## 3 - The Lunar Lander Environment\n",
    "\n",
    "In this notebook we will be using [OpenAI's Gym Library](https://www.gymlibrary.dev/). The Gym library provides a wide variety of environments for reinforcement learning. To put it simply, an environment represents a problem or task to be solved. In this notebook, we will try to solve the Lunar Lander environment using reinforcement learning.\n",
    "\n",
    "The goal of the Lunar Lander environment is to land the lunar lander safely on the landing pad on the surface of the moon. The landing pad is designated by two flag poles and its center is at coordinates `(0,0)` but the lander is also allowed to land outside of the landing pad. The lander starts at the top center of the environment with a random initial force applied to its center of mass and has infinite fuel. The environment is considered solved if you get `200` points. \n",
    "\n",
    "<br>\n",
    "<br>\n",
    "<figure>\n",
    "  <img src = \"images/lunar_lander.gif\" width = 40%>\n",
    "      <figcaption style = \"text-align: center; font-style: italic\">Fig 1. Lunar Lander Environment.</figcaption>\n",
    "</figure>\n",
    "\n",
    "\n",
    "\n",
    "<a name=\"3.1\"></a>\n",
    "### 3.1 Action Space\n",
    "\n",
    "The agent has four discrete actions available:\n",
    "\n",
    "* Do nothing.\n",
    "* Fire right engine.\n",
    "* Fire main engine.\n",
    "* Fire left engine.\n",
    "\n",
    "Each action has a corresponding numerical value:\n",
    "\n",
    "```python\n",
    "Do nothing = 0\n",
    "Fire right engine = 1\n",
    "Fire main engine = 2\n",
    "Fire left engine = 3\n",
    "```\n",
    "\n",
    "<a name=\"3.2\"></a>\n",
    "### 3.2 Observation Space\n",
    "\n",
    "The agent's observation space consists of a state vector with 8 variables:\n",
    "\n",
    "* Its $(x,y)$ coordinates. The landing pad is always at coordinates $(0,0)$.\n",
    "* Its linear velocities $(\\dot x,\\dot y)$.\n",
    "* Its angle $\\theta$.\n",
    "* Its angular velocity $\\dot \\theta$.\n",
    "* Two booleans, $l$ and $r$, that represent whether each leg is in contact with the ground or not.\n",
    "\n",
    "<a name=\"3.3\"></a>\n",
    "### 3.3 Rewards\n",
    "\n",
    "After every step, a reward is granted. The total reward of an episode is the sum of the rewards for all the steps within that episode.\n",
    "\n",
    "For each step, the reward:\n",
    "- is increased/decreased the closer/further the lander is to the landing pad.\n",
    "- is increased/decreased the slower/faster the lander is moving.\n",
    "- is decreased the more the lander is tilted (angle not horizontal).\n",
    "- is increased by 10 points for each leg that is in contact with the ground.\n",
    "- is decreased by 0.03 points each frame a side engine is firing.\n",
    "- is decreased by 0.3 points each frame the main engine is firing.\n",
    "\n",
    "The episode receives an additional reward of -100 or +100 points for crashing or landing safely respectively.\n",
    "\n",
    "<a name=\"3.4\"></a>\n",
    "### 3.4 Episode Termination\n",
    "\n",
    "An episode ends (i.e the environment enters a terminal state) if:\n",
    "\n",
    "* The lunar lander crashes (i.e if the body of the lunar lander comes in contact with the surface of the moon).\n",
    "\n",
    "* The absolute value of the lander's $x$-coordinate is greater than 1 (i.e. it goes beyond the left or right border)\n",
    "\n",
    "You can check out the [Open AI Gym documentation](https://www.gymlibrary.dev/environments/box2d/lunar_lander/) for a full description of the environment. "
   ]
  },
  {
   "cell_type": "markdown",
   "metadata": {},
   "source": [
    "<a name=\"4\"></a>\n",
    "## 4 - Load the Environment\n",
    "\n",
    "We start by loading the `LunarLander-v2` environment from the `gym` library by using the `.make()` method. `LunarLander-v2` is the latest version of the Lunar Lander environment and you can read about its version history in the [Open AI Gym documentation](https://www.gymlibrary.dev/environments/box2d/lunar_lander/#version-history)."
   ]
  },
  {
   "cell_type": "code",
   "execution_count": 34,
   "metadata": {
    "deletable": false,
    "editable": false,
    "id": "ILVMYKewfR0n"
   },
   "outputs": [],
   "source": [
    "env = gym.make('LunarLander-v2')"
   ]
  },
  {
   "cell_type": "markdown",
   "metadata": {},
   "source": [
    "Once we load the environment we use the `.reset()` method to reset the environment to the initial state. The lander starts at the top center of the environment and we can render the first frame of the environment by using the `.render()` method."
   ]
  },
  {
   "cell_type": "code",
   "execution_count": 35,
   "metadata": {
    "deletable": false,
    "editable": false
   },
   "outputs": [
    {
     "data": {
      "image/png": "[encoded data removed]",
      "text/plain": [
       "<PIL.Image.Image image mode=RGB size=600x400 at 0x750E3310CAD0>"
      ]
     },
     "execution_count": 35,
     "metadata": {},
     "output_type": "execute_result"
    }
   ],
   "source": [
    "env.reset()\n",
    "PIL.Image.fromarray(env.render(mode='rgb_array'))"
   ]
  },
  {
   "cell_type": "markdown",
   "metadata": {},
   "source": [
    "In order to build our neural network later on we need to know the size of the state vector and the number of valid actions. We can get this information from our environment by using the `.observation_space.shape` and `action_space.n` methods, respectively."
   ]
  },
  {
   "cell_type": "code",
   "execution_count": 36,
   "metadata": {
    "deletable": false,
    "editable": false,
    "id": "x3fdqdG4CUu2"
   },
   "outputs": [
    {
     "name": "stdout",
     "output_type": "stream",
     "text": [
      "State Shape: (8,)\n",
      "Number of actions: 4\n"
     ]
    }
   ],
   "source": [
    "state_size = env.observation_space.shape\n",
    "num_actions = env.action_space.n\n",
    "\n",
    "print('State Shape:', state_size)\n",
    "print('Number of actions:', num_actions)"
   ]
  },
  {
   "cell_type": "markdown",
   "metadata": {},
   "source": [
    "<a name=\"5\"></a>\n",
    "## 5 - Interacting with the Gym Environment\n",
    "\n",
    "The Gym library implements the standard “agent-environment loop” formalism:\n",
    "\n",
    "<br>\n",
    "<center>\n",
    "<video src = \"./videos/rl_formalism.m4v\" width=\"840\" height=\"480\" controls autoplay loop poster=\"./images/rl_formalism.png\"> </video>\n",
    "<figcaption style = \"text-align:center; font-style:italic\">Fig 2. Agent-environment Loop Formalism.</figcaption>\n",
    "</center>\n",
    "<br>\n",
    "\n",
    "In the standard “agent-environment loop” formalism, an agent interacts with the environment in discrete time steps $t=0,1,2,...$. At each time step $t$, the agent uses a policy $\\pi$ to select an action $A_t$ based on its observation of the environment's state $S_t$. The agent receives a numerical reward $R_t$ and on the next time step, moves to a new state $S_{t+1}$.\n",
    "\n",
    "<a name=\"5.1\"></a>\n",
    "### 5.1 Exploring the Environment's Dynamics\n",
    "\n",
    "In Open AI's Gym environments, we use the `.step()` method to run a single time step of the environment's dynamics. In the version of `gym` that we are using the `.step()` method accepts an action and returns four values:\n",
    "\n",
    "* `observation` (**object**): an environment-specific object representing your observation of the environment. In the Lunar Lander environment this corresponds to a numpy array containing the positions and velocities of the lander as described in section [3.2 Observation Space](#3.2).\n",
    "\n",
    "\n",
    "* `reward` (**float**): amount of reward returned as a result of taking the given action. In the Lunar Lander environment this corresponds to a float of type `numpy.float64` as described in section [3.3 Rewards](#3.3).\n",
    "\n",
    "\n",
    "* `done` (**boolean**): When done is `True`, it indicates the episode has terminated and it’s time to reset the environment. \n",
    "\n",
    "\n",
    "* `info` (**dictionary**): diagnostic information useful for debugging. We won't be using this variable in this notebook but it is shown here for completeness.\n",
    "\n",
    "To begin an episode, we need to reset the environment to an initial state. We do this by using the `.reset()` method. "
   ]
  },
  {
   "cell_type": "code",
   "execution_count": 37,
   "metadata": {
    "deletable": false,
    "editable": false
   },
   "outputs": [],
   "source": [
    "# Reset the environment and get the initial state.\n",
    "current_state = env.reset()"
   ]
  },
  {
   "cell_type": "markdown",
   "metadata": {},
   "source": [
    "Once the environment is reset, the agent can start taking actions in the environment by using the `.step()` method. Note that the agent can only take one action per time step. \n",
    "\n",
    "In the cell below you can select different actions and see how the returned values change depending on the action taken. Remember that in this environment the agent has four discrete actions available and we specify them in code by using their corresponding numerical value:\n",
    "\n",
    "```python\n",
    "Do nothing = 0\n",
    "Fire right engine = 1\n",
    "Fire main engine = 2\n",
    "Fire left engine = 3\n",
    "```"
   ]
  },
  {
   "cell_type": "code",
   "execution_count": 38,
   "metadata": {
    "deletable": false
   },
   "outputs": [
    {
     "data": {
      "text/html": [
       "<style  type=\"text/css\" >\n",
       "    #T_b280028a_fb2c_11ee_8fb0_0242ac12004b th {\n",
       "          border: 1px solid grey;\n",
       "          text-align: center;\n",
       "    }    #T_b280028a_fb2c_11ee_8fb0_0242ac12004b tbody td {\n",
       "          border: 1px solid grey;\n",
       "          text-align: center;\n",
       "    }    #T_b280028a_fb2c_11ee_8fb0_0242ac12004brow0_col0 {\n",
       "            background-color :  grey;\n",
       "        }    #T_b280028a_fb2c_11ee_8fb0_0242ac12004brow1_col1 {\n",
       "            background-color :  grey;\n",
       "        }    #T_b280028a_fb2c_11ee_8fb0_0242ac12004brow1_col2 {\n",
       "            background-color :  grey;\n",
       "        }    #T_b280028a_fb2c_11ee_8fb0_0242ac12004brow1_col3 {\n",
       "            background-color :  grey;\n",
       "        }    #T_b280028a_fb2c_11ee_8fb0_0242ac12004brow1_col4 {\n",
       "            background-color :  grey;\n",
       "        }    #T_b280028a_fb2c_11ee_8fb0_0242ac12004brow1_col5 {\n",
       "            background-color :  grey;\n",
       "        }    #T_b280028a_fb2c_11ee_8fb0_0242ac12004brow1_col6 {\n",
       "            background-color :  grey;\n",
       "        }    #T_b280028a_fb2c_11ee_8fb0_0242ac12004brow1_col7 {\n",
       "            background-color :  grey;\n",
       "        }    #T_b280028a_fb2c_11ee_8fb0_0242ac12004brow1_col8 {\n",
       "            background-color :  grey;\n",
       "        }    #T_b280028a_fb2c_11ee_8fb0_0242ac12004brow1_col9 {\n",
       "            background-color :  grey;\n",
       "        }    #T_b280028a_fb2c_11ee_8fb0_0242ac12004brow1_col10 {\n",
       "            background-color :  grey;\n",
       "        }    #T_b280028a_fb2c_11ee_8fb0_0242ac12004brow1_col11 {\n",
       "            background-color :  grey;\n",
       "        }    #T_b280028a_fb2c_11ee_8fb0_0242ac12004brow2_col0 {\n",
       "            background-color :  grey;\n",
       "        }    #T_b280028a_fb2c_11ee_8fb0_0242ac12004brow3_col1 {\n",
       "            background-color :  grey;\n",
       "        }    #T_b280028a_fb2c_11ee_8fb0_0242ac12004brow3_col2 {\n",
       "            background-color :  grey;\n",
       "        }    #T_b280028a_fb2c_11ee_8fb0_0242ac12004brow3_col3 {\n",
       "            background-color :  grey;\n",
       "        }    #T_b280028a_fb2c_11ee_8fb0_0242ac12004brow3_col4 {\n",
       "            background-color :  grey;\n",
       "        }    #T_b280028a_fb2c_11ee_8fb0_0242ac12004brow3_col5 {\n",
       "            background-color :  grey;\n",
       "        }    #T_b280028a_fb2c_11ee_8fb0_0242ac12004brow3_col6 {\n",
       "            background-color :  grey;\n",
       "        }    #T_b280028a_fb2c_11ee_8fb0_0242ac12004brow3_col7 {\n",
       "            background-color :  grey;\n",
       "        }    #T_b280028a_fb2c_11ee_8fb0_0242ac12004brow3_col8 {\n",
       "            background-color :  grey;\n",
       "        }    #T_b280028a_fb2c_11ee_8fb0_0242ac12004brow3_col9 {\n",
       "            background-color :  grey;\n",
       "        }    #T_b280028a_fb2c_11ee_8fb0_0242ac12004brow3_col10 {\n",
       "            background-color :  grey;\n",
       "        }    #T_b280028a_fb2c_11ee_8fb0_0242ac12004brow3_col11 {\n",
       "            background-color :  grey;\n",
       "        }    #T_b280028a_fb2c_11ee_8fb0_0242ac12004brow4_col1 {\n",
       "            background-color :  grey;\n",
       "        }    #T_b280028a_fb2c_11ee_8fb0_0242ac12004brow4_col2 {\n",
       "            background-color :  grey;\n",
       "        }    #T_b280028a_fb2c_11ee_8fb0_0242ac12004brow4_col3 {\n",
       "            background-color :  grey;\n",
       "        }    #T_b280028a_fb2c_11ee_8fb0_0242ac12004brow4_col4 {\n",
       "            background-color :  grey;\n",
       "        }    #T_b280028a_fb2c_11ee_8fb0_0242ac12004brow4_col5 {\n",
       "            background-color :  grey;\n",
       "        }    #T_b280028a_fb2c_11ee_8fb0_0242ac12004brow4_col6 {\n",
       "            background-color :  grey;\n",
       "        }    #T_b280028a_fb2c_11ee_8fb0_0242ac12004brow4_col7 {\n",
       "            background-color :  grey;\n",
       "        }    #T_b280028a_fb2c_11ee_8fb0_0242ac12004brow4_col8 {\n",
       "            background-color :  grey;\n",
       "        }    #T_b280028a_fb2c_11ee_8fb0_0242ac12004brow4_col9 {\n",
       "            background-color :  grey;\n",
       "        }    #T_b280028a_fb2c_11ee_8fb0_0242ac12004brow4_col10 {\n",
       "            background-color :  grey;\n",
       "        }    #T_b280028a_fb2c_11ee_8fb0_0242ac12004brow4_col11 {\n",
       "            background-color :  grey;\n",
       "        }</style><table id=\"T_b280028a_fb2c_11ee_8fb0_0242ac12004b\" ><thead>    <tr>        <th class=\"blank level0\" ></th>        <th class=\"col_heading level0 col0\" ></th>        <th class=\"col_heading level0 col1\" colspan=8>State Vector</th>        <th class=\"col_heading level0 col9\" colspan=3>Derived from the State Vector (the closer to zero, the better)</th>    </tr>    <tr>        <th class=\"blank level1\" ></th>        <th class=\"col_heading level1 col0\" ></th>        <th class=\"col_heading level1 col1\" colspan=2>Coordinate</th>        <th class=\"col_heading level1 col3\" colspan=2>Velocity</th>        <th class=\"col_heading level1 col5\" colspan=2>Tilting</th>        <th class=\"col_heading level1 col7\" colspan=2>Ground contact</th>        <th class=\"col_heading level1 col9\" >Distance from landing pad</th>        <th class=\"col_heading level1 col10\" >Velocity</th>        <th class=\"col_heading level1 col11\" >Tilting Angle (absolute value)</th>    </tr>    <tr>        <th class=\"blank level2\" ></th>        <th class=\"col_heading level2 col0\" ></th>        <th class=\"col_heading level2 col1\" >X (Horizontal)</th>        <th class=\"col_heading level2 col2\" >Y (Vertical)</th>        <th class=\"col_heading level2 col3\" >X (Horizontal)</th>        <th class=\"col_heading level2 col4\" >Y (Vertical)</th>        <th class=\"col_heading level2 col5\" >Angle</th>        <th class=\"col_heading level2 col6\" >Angular Velocity</th>        <th class=\"col_heading level2 col7\" >Left Leg?</th>        <th class=\"col_heading level2 col8\" >Right Leg?</th>        <th class=\"col_heading level2 col9\" ></th>        <th class=\"col_heading level2 col10\" ></th>        <th class=\"col_heading level2 col11\" ></th>    </tr></thead><tbody>\n",
       "                <tr>\n",
       "                        <th id=\"T_b280028a_fb2c_11ee_8fb0_0242ac12004blevel0_row0\" class=\"row_heading level0 row0\" >Current State</th>\n",
       "                        <td id=\"T_b280028a_fb2c_11ee_8fb0_0242ac12004brow0_col0\" class=\"data row0 col0\" ></td>\n",
       "                        <td id=\"T_b280028a_fb2c_11ee_8fb0_0242ac12004brow0_col1\" class=\"data row0 col1\" >0.001919</td>\n",
       "                        <td id=\"T_b280028a_fb2c_11ee_8fb0_0242ac12004brow0_col2\" class=\"data row0 col2\" >1.422301</td>\n",
       "                        <td id=\"T_b280028a_fb2c_11ee_8fb0_0242ac12004brow0_col3\" class=\"data row0 col3\" >0.194400</td>\n",
       "                        <td id=\"T_b280028a_fb2c_11ee_8fb0_0242ac12004brow0_col4\" class=\"data row0 col4\" >0.505814</td>\n",
       "                        <td id=\"T_b280028a_fb2c_11ee_8fb0_0242ac12004brow0_col5\" class=\"data row0 col5\" >-0.002217</td>\n",
       "                        <td id=\"T_b280028a_fb2c_11ee_8fb0_0242ac12004brow0_col6\" class=\"data row0 col6\" >-0.044034</td>\n",
       "                        <td id=\"T_b280028a_fb2c_11ee_8fb0_0242ac12004brow0_col7\" class=\"data row0 col7\" >False</td>\n",
       "                        <td id=\"T_b280028a_fb2c_11ee_8fb0_0242ac12004brow0_col8\" class=\"data row0 col8\" >False</td>\n",
       "                        <td id=\"T_b280028a_fb2c_11ee_8fb0_0242ac12004brow0_col9\" class=\"data row0 col9\" >1.422302</td>\n",
       "                        <td id=\"T_b280028a_fb2c_11ee_8fb0_0242ac12004brow0_col10\" class=\"data row0 col10\" >0.541885</td>\n",
       "                        <td id=\"T_b280028a_fb2c_11ee_8fb0_0242ac12004brow0_col11\" class=\"data row0 col11\" >0.002217</td>\n",
       "            </tr>\n",
       "            <tr>\n",
       "                        <th id=\"T_b280028a_fb2c_11ee_8fb0_0242ac12004blevel0_row1\" class=\"row_heading level0 row1\" >Action</th>\n",
       "                        <td id=\"T_b280028a_fb2c_11ee_8fb0_0242ac12004brow1_col0\" class=\"data row1 col0\" >Do nothing</td>\n",
       "                        <td id=\"T_b280028a_fb2c_11ee_8fb0_0242ac12004brow1_col1\" class=\"data row1 col1\" ></td>\n",
       "                        <td id=\"T_b280028a_fb2c_11ee_8fb0_0242ac12004brow1_col2\" class=\"data row1 col2\" ></td>\n",
       "                        <td id=\"T_b280028a_fb2c_11ee_8fb0_0242ac12004brow1_col3\" class=\"data row1 col3\" ></td>\n",
       "                        <td id=\"T_b280028a_fb2c_11ee_8fb0_0242ac12004brow1_col4\" class=\"data row1 col4\" ></td>\n",
       "                        <td id=\"T_b280028a_fb2c_11ee_8fb0_0242ac12004brow1_col5\" class=\"data row1 col5\" ></td>\n",
       "                        <td id=\"T_b280028a_fb2c_11ee_8fb0_0242ac12004brow1_col6\" class=\"data row1 col6\" ></td>\n",
       "                        <td id=\"T_b280028a_fb2c_11ee_8fb0_0242ac12004brow1_col7\" class=\"data row1 col7\" ></td>\n",
       "                        <td id=\"T_b280028a_fb2c_11ee_8fb0_0242ac12004brow1_col8\" class=\"data row1 col8\" ></td>\n",
       "                        <td id=\"T_b280028a_fb2c_11ee_8fb0_0242ac12004brow1_col9\" class=\"data row1 col9\" ></td>\n",
       "                        <td id=\"T_b280028a_fb2c_11ee_8fb0_0242ac12004brow1_col10\" class=\"data row1 col10\" ></td>\n",
       "                        <td id=\"T_b280028a_fb2c_11ee_8fb0_0242ac12004brow1_col11\" class=\"data row1 col11\" ></td>\n",
       "            </tr>\n",
       "            <tr>\n",
       "                        <th id=\"T_b280028a_fb2c_11ee_8fb0_0242ac12004blevel0_row2\" class=\"row_heading level0 row2\" >Next State</th>\n",
       "                        <td id=\"T_b280028a_fb2c_11ee_8fb0_0242ac12004brow2_col0\" class=\"data row2 col0\" ></td>\n",
       "                        <td id=\"T_b280028a_fb2c_11ee_8fb0_0242ac12004brow2_col1\" class=\"data row2 col1\" >0.003839</td>\n",
       "                        <td id=\"T_b280028a_fb2c_11ee_8fb0_0242ac12004brow2_col2\" class=\"data row2 col2\" >1.433103</td>\n",
       "                        <td id=\"T_b280028a_fb2c_11ee_8fb0_0242ac12004brow2_col3\" class=\"data row2 col3\" >0.194137</td>\n",
       "                        <td id=\"T_b280028a_fb2c_11ee_8fb0_0242ac12004brow2_col4\" class=\"data row2 col4\" >0.480094</td>\n",
       "                        <td id=\"T_b280028a_fb2c_11ee_8fb0_0242ac12004brow2_col5\" class=\"data row2 col5\" >-0.004393</td>\n",
       "                        <td id=\"T_b280028a_fb2c_11ee_8fb0_0242ac12004brow2_col6\" class=\"data row2 col6\" >-0.043519</td>\n",
       "                        <td id=\"T_b280028a_fb2c_11ee_8fb0_0242ac12004brow2_col7\" class=\"data row2 col7\" >False</td>\n",
       "                        <td id=\"T_b280028a_fb2c_11ee_8fb0_0242ac12004brow2_col8\" class=\"data row2 col8\" >False</td>\n",
       "                        <td id=\"T_b280028a_fb2c_11ee_8fb0_0242ac12004brow2_col9\" class=\"data row2 col9\" >1.433108</td>\n",
       "                        <td id=\"T_b280028a_fb2c_11ee_8fb0_0242ac12004brow2_col10\" class=\"data row2 col10\" >0.517860</td>\n",
       "                        <td id=\"T_b280028a_fb2c_11ee_8fb0_0242ac12004brow2_col11\" class=\"data row2 col11\" >0.004393</td>\n",
       "            </tr>\n",
       "            <tr>\n",
       "                        <th id=\"T_b280028a_fb2c_11ee_8fb0_0242ac12004blevel0_row3\" class=\"row_heading level0 row3\" >Reward</th>\n",
       "                        <td id=\"T_b280028a_fb2c_11ee_8fb0_0242ac12004brow3_col0\" class=\"data row3 col0\" >1.104326</td>\n",
       "                        <td id=\"T_b280028a_fb2c_11ee_8fb0_0242ac12004brow3_col1\" class=\"data row3 col1\" ></td>\n",
       "                        <td id=\"T_b280028a_fb2c_11ee_8fb0_0242ac12004brow3_col2\" class=\"data row3 col2\" ></td>\n",
       "                        <td id=\"T_b280028a_fb2c_11ee_8fb0_0242ac12004brow3_col3\" class=\"data row3 col3\" ></td>\n",
       "                        <td id=\"T_b280028a_fb2c_11ee_8fb0_0242ac12004brow3_col4\" class=\"data row3 col4\" ></td>\n",
       "                        <td id=\"T_b280028a_fb2c_11ee_8fb0_0242ac12004brow3_col5\" class=\"data row3 col5\" ></td>\n",
       "                        <td id=\"T_b280028a_fb2c_11ee_8fb0_0242ac12004brow3_col6\" class=\"data row3 col6\" ></td>\n",
       "                        <td id=\"T_b280028a_fb2c_11ee_8fb0_0242ac12004brow3_col7\" class=\"data row3 col7\" ></td>\n",
       "                        <td id=\"T_b280028a_fb2c_11ee_8fb0_0242ac12004brow3_col8\" class=\"data row3 col8\" ></td>\n",
       "                        <td id=\"T_b280028a_fb2c_11ee_8fb0_0242ac12004brow3_col9\" class=\"data row3 col9\" ></td>\n",
       "                        <td id=\"T_b280028a_fb2c_11ee_8fb0_0242ac12004brow3_col10\" class=\"data row3 col10\" ></td>\n",
       "                        <td id=\"T_b280028a_fb2c_11ee_8fb0_0242ac12004brow3_col11\" class=\"data row3 col11\" ></td>\n",
       "            </tr>\n",
       "            <tr>\n",
       "                        <th id=\"T_b280028a_fb2c_11ee_8fb0_0242ac12004blevel0_row4\" class=\"row_heading level0 row4\" >Episode Terminated</th>\n",
       "                        <td id=\"T_b280028a_fb2c_11ee_8fb0_0242ac12004brow4_col0\" class=\"data row4 col0\" >False</td>\n",
       "                        <td id=\"T_b280028a_fb2c_11ee_8fb0_0242ac12004brow4_col1\" class=\"data row4 col1\" ></td>\n",
       "                        <td id=\"T_b280028a_fb2c_11ee_8fb0_0242ac12004brow4_col2\" class=\"data row4 col2\" ></td>\n",
       "                        <td id=\"T_b280028a_fb2c_11ee_8fb0_0242ac12004brow4_col3\" class=\"data row4 col3\" ></td>\n",
       "                        <td id=\"T_b280028a_fb2c_11ee_8fb0_0242ac12004brow4_col4\" class=\"data row4 col4\" ></td>\n",
       "                        <td id=\"T_b280028a_fb2c_11ee_8fb0_0242ac12004brow4_col5\" class=\"data row4 col5\" ></td>\n",
       "                        <td id=\"T_b280028a_fb2c_11ee_8fb0_0242ac12004brow4_col6\" class=\"data row4 col6\" ></td>\n",
       "                        <td id=\"T_b280028a_fb2c_11ee_8fb0_0242ac12004brow4_col7\" class=\"data row4 col7\" ></td>\n",
       "                        <td id=\"T_b280028a_fb2c_11ee_8fb0_0242ac12004brow4_col8\" class=\"data row4 col8\" ></td>\n",
       "                        <td id=\"T_b280028a_fb2c_11ee_8fb0_0242ac12004brow4_col9\" class=\"data row4 col9\" ></td>\n",
       "                        <td id=\"T_b280028a_fb2c_11ee_8fb0_0242ac12004brow4_col10\" class=\"data row4 col10\" ></td>\n",
       "                        <td id=\"T_b280028a_fb2c_11ee_8fb0_0242ac12004brow4_col11\" class=\"data row4 col11\" ></td>\n",
       "            </tr>\n",
       "    </tbody></table>"
      ],
      "text/plain": [
       "<pandas.io.formats.style.Styler at 0x750e358dabd0>"
      ]
     },
     "metadata": {},
     "output_type": "display_data"
    }
   ],
   "source": [
    "# Select an action\n",
    "action = 0\n",
    "\n",
    "# Run a single time step of the environment's dynamics with the given action.\n",
    "next_state, reward, done, _ = env.step(action)\n",
    "\n",
    "# Display table with values.\n",
    "utils.display_table(current_state, action, next_state, reward, done)\n",
    "\n",
    "# Replace the `current_state` with the state after the action is taken\n",
    "current_state = next_state"
   ]
  },
  {
   "cell_type": "markdown",
   "metadata": {},
   "source": [
    "In practice, when we train the agent we use a loop to allow the agent to take many consecutive actions during an episode."
   ]
  },
  {
   "cell_type": "markdown",
   "metadata": {},
   "source": [
    "<a name=\"6\"></a>\n",
    "## 6 - Deep Q-Learning\n",
    "\n",
    "In cases where both the state and action space are discrete we can estimate the action-value function iteratively by using the Bellman equation:\n",
    "\n",
    "$$\n",
    "Q_{i+1}(s,a) = R + \\gamma \\max_{a'}Q_i(s',a')\n",
    "$$\n",
    "\n",
    "This iterative method converges to the optimal action-value function $Q^*(s,a)$ as $i\\to\\infty$. This means that the agent just needs to gradually explore the state-action space and keep updating the estimate of $Q(s,a)$ until it converges to the optimal action-value function $Q^*(s,a)$. However, in cases where the state space is continuous it becomes practically impossible to explore the entire state-action space. Consequently, this also makes it practically impossible to gradually estimate $Q(s,a)$ until it converges to $Q^*(s,a)$.\n",
    "\n",
    "In the Deep $Q$-Learning, we solve this problem by using a neural network to estimate the action-value function $Q(s,a)\\approx Q^*(s,a)$. We call this neural network a $Q$-Network and it can be trained by adjusting its weights at each iteration to minimize the mean-squared error in the Bellman equation.\n",
    "\n",
    "Unfortunately, using neural networks in reinforcement learning to estimate action-value functions has proven to be highly unstable. Luckily, there's a couple of techniques that can be employed to avoid instabilities. These techniques consist of using a ***Target Network*** and ***Experience Replay***. We will explore these two techniques in the following sections."
   ]
  },
  {
   "cell_type": "markdown",
   "metadata": {},
   "source": [
    "<a name=\"6.1\"></a>\n",
    "### 6.1 Target Network\n",
    "\n",
    "We can train the $Q$-Network by adjusting it's weights at each iteration to minimize the mean-squared error in the Bellman equation, where the target values are given by:\n",
    "\n",
    "$$\n",
    "y = R + \\gamma \\max_{a'}Q(s',a';w)\n",
    "$$\n",
    "\n",
    "where $w$ are the weights of the $Q$-Network. This means that we are adjusting the weights $w$ at each iteration to minimize the following error:\n",
    "\n",
    "$$\n",
    "\\overbrace{\\underbrace{R + \\gamma \\max_{a'}Q(s',a'; w)}_{\\rm {y~target}} - Q(s,a;w)}^{\\rm {Error}}\n",
    "$$\n",
    "\n",
    "Notice that this forms a problem because the $y$ target is changing on every iteration. Having a constantly moving target can lead to oscillations and instabilities. To avoid this, we can create\n",
    "a separate neural network for generating the $y$ targets. We call this separate neural network the **target $\\hat Q$-Network** and it will have the same architecture as the original $Q$-Network. By using the target $\\hat Q$-Network, the above error becomes:\n",
    "\n",
    "$$\n",
    "\\overbrace{\\underbrace{R + \\gamma \\max_{a'}\\hat{Q}(s',a'; w^-)}_{\\rm {y~target}} - Q(s,a;w)}^{\\rm {Error}}\n",
    "$$\n",
    "\n",
    "where $w^-$ and $w$ are the weights of the target $\\hat Q$-Network and $Q$-Network, respectively.\n",
    "\n",
    "In practice, we will use the following algorithm: every $C$ time steps we will use the $\\hat Q$-Network to generate the $y$ targets and update the weights of the target $\\hat Q$-Network using the weights of the $Q$-Network. We will update the weights $w^-$ of the the target $\\hat Q$-Network using a **soft update**. This means that we will update the weights $w^-$ using the following rule:\n",
    " \n",
    "$$\n",
    "w^-\\leftarrow \\tau w + (1 - \\tau) w^-\n",
    "$$\n",
    "\n",
    "where $\\tau\\ll 1$. By using the soft update, we are ensuring that the target values, $y$, change slowly, which greatly improves the stability of our learning algorithm."
   ]
  },
  {
   "cell_type": "markdown",
   "metadata": {},
   "source": [
    "<a name=\"ex01\"></a>\n",
    "### Exercise 1\n",
    "\n",
    "In this exercise you will create the $Q$ and target $\\hat Q$ networks and set the optimizer. Remember that the Deep $Q$-Network (DQN) is a neural network that approximates the action-value function $Q(s,a)\\approx Q^*(s,a)$. It does this by learning how to map states to $Q$ values.\n",
    "\n",
    "To solve the Lunar Lander environment, we are going to employ a DQN with the following architecture:\n",
    "\n",
    "* An `Input` layer that takes `state_size` as input.\n",
    "\n",
    "* A `Dense` layer with `64` units and a `relu` activation function.\n",
    "\n",
    "* A `Dense` layer with `64` units and a `relu` activation function.\n",
    "\n",
    "* A `Dense` layer with `num_actions` units and a `linear` activation function. This will be the output layer of our network.\n",
    "\n",
    "\n",
    "In the cell below you should create the $Q$-Network and the target $\\hat Q$-Network using the model architecture described above. Remember that both the $Q$-Network and the target $\\hat Q$-Network have the same architecture.\n",
    "\n",
    "Lastly, you should set `Adam` as the optimizer with a learning rate equal to `ALPHA`. Recall that `ALPHA` was defined in the [Hyperparameters](#2) section. We should note that for this exercise you should use the already imported packages:\n",
    "```python\n",
    "from tensorflow.keras.layers import Dense, Input\n",
    "from tensorflow.keras.optimizers import Adam\n",
    "```"
   ]
  },
  {
   "cell_type": "code",
   "execution_count": 39,
   "metadata": {
    "deletable": false
   },
   "outputs": [],
   "source": [
    "# UNQ_C1\n",
    "# GRADED CELL\n",
    "\n",
    "# Create the Q-Network\n",
    "q_network = Sequential([\n",
    "    ### START CODE HERE ### \n",
    "    Input(shape=state_size),                      \n",
    "    Dense(units=64, activation='relu'),            \n",
    "    Dense(units=64, activation='relu'),            \n",
    "    Dense(units=num_actions, activation='linear'),   \n",
    "    ### END CODE HERE ### \n",
    "    ])\n",
    "\n",
    "# Create the target Q^-Network\n",
    "target_q_network = Sequential([\n",
    "    ### START CODE HERE ### \n",
    "    Input(shape=state_size),                      \n",
    "    Dense(units=64, activation='relu'),            \n",
    "    Dense(units=64, activation='relu'),            \n",
    "    Dense(units=num_actions, activation='linear'),\n",
    "    ### END CODE HERE ###\n",
    "    ])\n",
    "\n",
    "### START CODE HERE ### \n",
    "optimizer = Adam(learning_rate=ALPHA) \n",
    "### END CODE HERE ###"
   ]
  },
  {
   "cell_type": "code",
   "execution_count": 40,
   "metadata": {
    "deletable": false,
    "editable": false
   },
   "outputs": [
    {
     "name": "stdout",
     "output_type": "stream",
     "text": [
      "\u001b[92mAll tests passed!\n",
      "\u001b[92mAll tests passed!\n",
      "\u001b[92mAll tests passed!\n"
     ]
    }
   ],
   "source": [
    "# UNIT TEST\n",
    "from public_tests import *\n",
    "\n",
    "test_network(q_network)\n",
    "test_network(target_q_network)\n",
    "test_optimizer(optimizer, ALPHA) "
   ]
  },
  {
   "cell_type": "markdown",
   "metadata": {},
   "source": [
    "<details>\n",
    "  <summary><font size=\"3\" color=\"darkgreen\"><b>Click for hints</b></font></summary>\n",
    "    \n",
    "```python\n",
    "# Create the Q-Network\n",
    "q_network = Sequential([\n",
    "    Input(shape=state_size),                      \n",
    "    Dense(units=64, activation='relu'),            \n",
    "    Dense(units=64, activation='relu'),            \n",
    "    Dense(units=num_actions, activation='linear'),\n",
    "    ])\n",
    "\n",
    "# Create the target Q^-Network\n",
    "target_q_network = Sequential([\n",
    "    Input(shape=state_size),                       \n",
    "    Dense(units=64, activation='relu'),            \n",
    "    Dense(units=64, activation='relu'),            \n",
    "    Dense(units=num_actions, activation='linear'), \n",
    "    ])\n",
    "\n",
    "optimizer = Adam(learning_rate=ALPHA)                                  \n",
    "``` "
   ]
  },
  {
   "cell_type": "markdown",
   "metadata": {},
   "source": [
    "<a name=\"6.2\"></a>\n",
    "### 6.2 Experience Replay\n",
    "\n",
    "When an agent interacts with the environment, the states, actions, and rewards the agent experiences are sequential by nature. If the agent tries to learn from these consecutive experiences it can run into problems due to the strong correlations between them. To avoid this, we employ a technique known as **Experience Replay** to generate uncorrelated experiences for training our agent. Experience replay consists of storing the agent's experiences (i.e the states, actions, and rewards the agent receives) in a memory buffer and then sampling a random mini-batch of experiences from the buffer to do the learning. The experience tuples $(S_t, A_t, R_t, S_{t+1})$ will be added to the memory buffer at each time step as the agent interacts with the environment.\n",
    "\n",
    "For convenience, we will store the experiences as named tuples."
   ]
  },
  {
   "cell_type": "code",
   "execution_count": 41,
   "metadata": {
    "deletable": false,
    "editable": false
   },
   "outputs": [],
   "source": [
    "# Store experiences as named tuples\n",
    "experience = namedtuple(\"Experience\", field_names=[\"state\", \"action\", \"reward\", \"next_state\", \"done\"])"
   ]
  },
  {
   "cell_type": "markdown",
   "metadata": {},
   "source": [
    "By using experience replay we avoid problematic correlations, oscillations and instabilities. In addition, experience replay also allows the agent to potentially use the same experience in multiple weight updates, which increases data efficiency."
   ]
  },
  {
   "cell_type": "markdown",
   "metadata": {},
   "source": [
    "<a name=\"7\"></a>\n",
    "## 7 - Deep Q-Learning Algorithm with Experience Replay\n",
    "\n",
    "Now that we know all the techniques that we are going to use, we can put them together to arrive at the Deep Q-Learning Algorithm With Experience Replay.\n",
    "<br>\n",
    "<br>\n",
    "<figure>\n",
    "  <img src = \"images/deep_q_algorithm.png\" width = 90% style = \"border: thin silver solid; padding: 0px\">\n",
    "      <figcaption style = \"text-align: center; font-style: italic\">Fig 3. Deep Q-Learning with Experience Replay.</figcaption>\n",
    "</figure>"
   ]
  },
  {
   "cell_type": "markdown",
   "metadata": {},
   "source": [
    "<a name=\"ex02\"></a>\n",
    "### Exercise 2\n",
    "\n",
    "In this exercise you will implement line ***12*** of the algorithm outlined in *Fig 3* above and you will also compute the loss between the $y$ targets and the $Q(s,a)$ values. In the cell below, complete the `compute_loss` function by setting the $y$ targets equal to:\n",
    "\n",
    "$$\n",
    "\\begin{equation}\n",
    "    y_j =\n",
    "    \\begin{cases}\n",
    "      R_j & \\text{if episode terminates at step  } j+1\\\\\n",
    "      R_j + \\gamma \\max_{a'}\\hat{Q}(s_{j+1},a') & \\text{otherwise}\\\\\n",
    "    \\end{cases}       \n",
    "\\end{equation}\n",
    "$$\n",
    "\n",
    "Here are a couple of things to note:\n",
    "\n",
    "* The `compute_loss` function takes in a mini-batch of experience tuples. This mini-batch of experience tuples is unpacked to extract the `states`, `actions`, `rewards`, `next_states`, and `done_vals`. You should keep in mind that these variables are *TensorFlow Tensors* whose size will depend on the mini-batch size. For example, if the mini-batch size is `64` then both `rewards` and `done_vals` will be TensorFlow Tensors with `64` elements.\n",
    "\n",
    "\n",
    "* Using `if/else` statements to set the $y$ targets will not work when the variables are tensors with many elements. However, notice that you can use the `done_vals` to implement the above in a single line of code. To do this, recall that the `done` variable is a Boolean variable that takes the value `True` when an episode terminates at step $j+1$ and it is `False` otherwise. Taking into account that a Boolean value of `True` has the numerical value of `1` and a Boolean value of `False` has the numerical value of `0`, you can use the factor `(1 - done_vals)` to implement the above in a single line of code. Here's a hint: notice that `(1 - done_vals)` has a value of `0` when `done_vals` is `True` and a value of `1` when `done_vals` is `False`. \n",
    "\n",
    "Lastly, compute the loss by calculating the Mean-Squared Error (`MSE`) between the `y_targets` and the `q_values`. To calculate the mean-squared error you should use the already imported package `MSE`:\n",
    "```python\n",
    "from tensorflow.keras.losses import MSE\n",
    "```"
   ]
  },
  {
   "cell_type": "code",
   "execution_count": 42,
   "metadata": {
    "deletable": false
   },
   "outputs": [],
   "source": [
    "# UNQ_C2\n",
    "# GRADED FUNCTION: calculate_loss\n",
    "\n",
    "def compute_loss(experiences, gamma, q_network, target_q_network):\n",
    "    \"\"\" \n",
    "    Calculates the loss.\n",
    "    \n",
    "    Args:\n",
    "      experiences: (tuple) tuple of [\"state\", \"action\", \"reward\", \"next_state\", \"done\"] namedtuples\n",
    "      gamma: (float) The discount factor.\n",
    "      q_network: (tf.keras.Sequential) Keras model for predicting the q_values\n",
    "      target_q_network: (tf.keras.Sequential) Keras model for predicting the targets\n",
    "          \n",
    "    Returns:\n",
    "      loss: (TensorFlow Tensor(shape=(0,), dtype=int32)) the Mean-Squared Error between\n",
    "            the y targets and the Q(s,a) values.\n",
    "    \"\"\"\n",
    "\n",
    "    # Unpack the mini-batch of experience tuples\n",
    "    states, actions, rewards, next_states, done_vals = experiences\n",
    "    \n",
    "    # Compute max Q^(s,a)\n",
    "    max_qsa = tf.reduce_max(target_q_network(next_states), axis=-1)\n",
    "    \n",
    "    # Set y = R if episode terminates, otherwise set y = R + γ max Q^(s,a).\n",
    "    ### START CODE HERE ### \n",
    "    y_targets = rewards + (gamma * max_qsa * (1 - done_vals))\n",
    "\n",
    "    ### END CODE HERE ###\n",
    "    \n",
    "    # Get the q_values and reshape to match y_targets\n",
    "    q_values = q_network(states)\n",
    "    q_values = tf.gather_nd(q_values, tf.stack([tf.range(q_values.shape[0]),\n",
    "                                                tf.cast(actions, tf.int32)], axis=1))\n",
    "        \n",
    "    # Compute the loss\n",
    "    ### START CODE HERE ### \n",
    "    loss = MSE(y_targets, q_values)\n",
    "    ### END CODE HERE ### \n",
    "    \n",
    "    return loss"
   ]
  },
  {
   "cell_type": "code",
   "execution_count": 43,
   "metadata": {
    "deletable": false,
    "editable": false
   },
   "outputs": [
    {
     "name": "stdout",
     "output_type": "stream",
     "text": [
      "\u001b[92mAll tests passed!\n"
     ]
    }
   ],
   "source": [
    "# UNIT TEST    \n",
    "test_compute_loss(compute_loss)"
   ]
  },
  {
   "cell_type": "markdown",
   "metadata": {},
   "source": [
    "<details>\n",
    "  <summary><font size=\"3\" color=\"darkgreen\"><b>Click for hints</b></font></summary>\n",
    "    \n",
    "```python\n",
    "def compute_loss(experiences, gamma, q_network, target_q_network):\n",
    "    \"\"\" \n",
    "    Calculates the loss.\n",
    "    \n",
    "    Args:\n",
    "      experiences: (tuple) tuple of [\"state\", \"action\", \"reward\", \"next_state\", \"done\"] namedtuples\n",
    "      gamma: (float) The discount factor.\n",
    "      q_network: (tf.keras.Sequential) Keras model for predicting the q_values\n",
    "      target_q_network: (tf.keras.Sequential) Keras model for predicting the targets\n",
    "          \n",
    "    Returns:\n",
    "      loss: (TensorFlow Tensor(shape=(0,), dtype=int32)) the Mean-Squared Error between\n",
    "            the y targets and the Q(s,a) values.\n",
    "    \"\"\"\n",
    "\n",
    "    \n",
    "    # Unpack the mini-batch of experience tuples\n",
    "    states, actions, rewards, next_states, done_vals = experiences\n",
    "    \n",
    "    # Compute max Q^(s,a)\n",
    "    max_qsa = tf.reduce_max(target_q_network(next_states), axis=-1)\n",
    "    \n",
    "    # Set y = R if episode terminates, otherwise set y = R + γ max Q^(s,a).\n",
    "    y_targets = rewards + (gamma * max_qsa * (1 - done_vals))\n",
    "    \n",
    "    # Get the q_values\n",
    "    q_values = q_network(states)\n",
    "    q_values = tf.gather_nd(q_values, tf.stack([tf.range(q_values.shape[0]),\n",
    "                                                tf.cast(actions, tf.int32)], axis=1))\n",
    "    \n",
    "    # Calculate the loss\n",
    "    loss = MSE(y_targets, q_values)\n",
    "    \n",
    "    return loss\n",
    "\n",
    "``` \n",
    "    "
   ]
  },
  {
   "cell_type": "markdown",
   "metadata": {},
   "source": [
    "<a name=\"8\"></a>\n",
    "## 8 - Update the Network Weights\n",
    "\n",
    "We will use the `agent_learn` function below to implement lines ***12 -14*** of the algorithm outlined in [Fig 3](#7). The `agent_learn` function will update the weights of the $Q$ and target $\\hat Q$ networks using a custom training loop. Because we are using a custom training loop we need to retrieve the gradients via a `tf.GradientTape` instance, and then call `optimizer.apply_gradients()` to update the weights of our $Q$-Network. Note that we are also using the `@tf.function` decorator to increase performance. Without this decorator our training will take twice as long. If you would like to know more about how to increase performance with `@tf.function` take a look at the [TensorFlow documentation](https://www.tensorflow.org/guide/function).\n",
    "\n",
    "The last line of this function updates the weights of the target $\\hat Q$-Network using a [soft update](#6.1). If you want to know how this is implemented in code we encourage you to take a look at the `utils.update_target_network` function in the `utils` module."
   ]
  },
  {
   "cell_type": "code",
   "execution_count": 44,
   "metadata": {
    "deletable": false,
    "editable": false
   },
   "outputs": [],
   "source": [
    "@tf.function\n",
    "def agent_learn(experiences, gamma):\n",
    "    \"\"\"\n",
    "    Updates the weights of the Q networks.\n",
    "    \n",
    "    Args:\n",
    "      experiences: (tuple) tuple of [\"state\", \"action\", \"reward\", \"next_state\", \"done\"] namedtuples\n",
    "      gamma: (float) The discount factor.\n",
    "    \n",
    "    \"\"\"\n",
    "    \n",
    "    # Calculate the loss\n",
    "    with tf.GradientTape() as tape:\n",
    "        loss = compute_loss(experiences, gamma, q_network, target_q_network)\n",
    "\n",
    "    # Get the gradients of the loss with respect to the weights.\n",
    "    gradients = tape.gradient(loss, q_network.trainable_variables)\n",
    "    \n",
    "    # Update the weights of the q_network.\n",
    "    optimizer.apply_gradients(zip(gradients, q_network.trainable_variables))\n",
    "\n",
    "    # update the weights of target q_network\n",
    "    utils.update_target_network(q_network, target_q_network)"
   ]
  },
  {
   "cell_type": "markdown",
   "metadata": {},
   "source": [
    "<a name=\"9\"></a>\n",
    "## 9 - Train the Agent\n",
    "\n",
    "We are now ready to train our agent to solve the Lunar Lander environment. In the cell below we will implement the algorithm in [Fig 3](#7) line by line (please note that we have included the same algorithm below for easy reference. This will prevent you from scrolling up and down the notebook):\n",
    "\n",
    "* **Line 1**: We initialize the `memory_buffer` with a capacity of $N =$ `MEMORY_SIZE`. Notice that we are using a `deque` as the data structure for our `memory_buffer`.\n",
    "\n",
    "\n",
    "* **Line 2**: We skip this line since we already initialized the `q_network` in [Exercise 1](#ex01).\n",
    "\n",
    "\n",
    "* **Line 3**: We initialize the `target_q_network` by setting its weights to be equal to those of the `q_network`.\n",
    "\n",
    "\n",
    "* **Line 4**: We start the outer loop. Notice that we have set $M =$ `num_episodes = 2000`. This number is reasonable because the agent should be able to solve the Lunar Lander environment in less than `2000` episodes using this notebook's default parameters.\n",
    "\n",
    "\n",
    "* **Line 5**: We use the `.reset()` method to reset the environment to the initial state and get the initial state.\n",
    "\n",
    "\n",
    "* **Line 6**: We start the inner loop. Notice that we have set $T =$ `max_num_timesteps = 1000`. This means that the episode will automatically terminate if the episode hasn't terminated after `1000` time steps.\n",
    "\n",
    "\n",
    "* **Line 7**: The agent observes the current `state` and chooses an `action` using an $\\epsilon$-greedy policy. Our agent starts out using a value of $\\epsilon =$ `epsilon = 1` which yields an $\\epsilon$-greedy policy that is equivalent to the equiprobable random policy. This means that at the beginning of our training, the agent is just going to take random actions regardless of the observed `state`. As training progresses we will decrease the value of $\\epsilon$ slowly towards a minimum value using a given $\\epsilon$-decay rate. We want this minimum value to be close to zero because a value of $\\epsilon = 0$ will yield an $\\epsilon$-greedy policy that is equivalent to the greedy policy. This means that towards the end of training, the agent will lean towards selecting the `action` that it believes (based on its past experiences) will maximize $Q(s,a)$. We will set the minimum $\\epsilon$ value to be `0.01` and not exactly 0 because we always want to keep a little bit of exploration during training. If you want to know how this is implemented in code we encourage you to take a look at the `utils.get_action` function in the `utils` module.\n",
    "\n",
    "\n",
    "* **Line 8**: We use the `.step()` method to take the given `action` in the environment and get the `reward` and the `next_state`. \n",
    "\n",
    "\n",
    "* **Line 9**: We store the `experience(state, action, reward, next_state, done)` tuple in our `memory_buffer`. Notice that we also store the `done` variable so that we can keep track of when an episode terminates. This allowed us to set the $y$ targets in [Exercise 2](#ex02).\n",
    "\n",
    "\n",
    "* **Line 10**: We check if the conditions are met to perform a learning update. We do this by using our custom `utils.check_update_conditions` function. This function checks if $C =$ `NUM_STEPS_FOR_UPDATE = 4` time steps have occured and if our `memory_buffer` has enough experience tuples to fill a mini-batch. For example, if the mini-batch size is `64`, then our `memory_buffer` should have more than `64` experience tuples in order to pass the latter condition. If the conditions are met, then the `utils.check_update_conditions` function will return a value of `True`, otherwise it will return a value of `False`.\n",
    "\n",
    "\n",
    "* **Lines 11 - 14**: If the `update` variable is `True` then we perform a learning update. The learning update consists of sampling a random mini-batch of experience tuples from our `memory_buffer`, setting the $y$ targets, performing gradient descent, and updating the weights of the networks. We will use the `agent_learn` function we defined in [Section 8](#8) to perform the latter 3.\n",
    "\n",
    "\n",
    "* **Line 15**: At the end of each iteration of the inner loop we set `next_state` as our new `state` so that the loop can start again from this new state. In addition, we check if the episode has reached a terminal state (i.e we check if `done = True`). If a terminal state has been reached, then we break out of the inner loop.\n",
    "\n",
    "\n",
    "* **Line 16**: At the end of each iteration of the outer loop we update the value of $\\epsilon$, and check if the environment has been solved. We consider that the environment has been solved if the agent receives an average of `200` points in the last `100` episodes. If the environment has not been solved we continue the outer loop and start a new episode.\n",
    "\n",
    "Finally, we wanted to note that we have included some extra variables to keep track of the total number of points the agent received in each episode. This will help us determine if the agent has solved the environment and it will also allow us to see how our agent performed during training. We also use the `time` module to measure how long the training takes. \n",
    "\n",
    "<br>\n",
    "<br>\n",
    "<figure>\n",
    "  <img src = \"images/deep_q_algorithm.png\" width = 90% style = \"border: thin silver solid; padding: 0px\">\n",
    "      <figcaption style = \"text-align: center; font-style: italic\">Fig 4. Deep Q-Learning with Experience Replay.</figcaption>\n",
    "</figure>\n",
    "<br>\n",
    "\n",
    "**Note:** With this notebook's default parameters, the following cell takes between 10 to 15 minutes to run. "
   ]
  },
  {
   "cell_type": "code",
   "execution_count": 45,
   "metadata": {
    "deletable": false,
    "editable": false
   },
   "outputs": [
    {
     "name": "stdout",
     "output_type": "stream",
     "text": [
      "Episode 100 | Total point average of the last 100 episodes: -145.81\n",
      "Episode 200 | Total point average of the last 100 episodes: -88.670\n",
      "Episode 300 | Total point average of the last 100 episodes: -45.95\n",
      "Episode 400 | Total point average of the last 100 episodes: 40.726\n",
      "Episode 500 | Total point average of the last 100 episodes: 155.86\n",
      "Episode 578 | Total point average of the last 100 episodes: 200.58\n",
      "\n",
      "Environment solved in 578 episodes!\n",
      "\n",
      "Total Runtime: 914.44 s (15.24 min)\n"
     ]
    }
   ],
   "source": [
    "start = time.time()\n",
    "\n",
    "num_episodes = 2000\n",
    "max_num_timesteps = 1000\n",
    "\n",
    "total_point_history = []\n",
    "\n",
    "num_p_av = 100    # number of total points to use for averaging\n",
    "epsilon = 1.0     # initial ε value for ε-greedy policy\n",
    "\n",
    "# Create a memory buffer D with capacity N\n",
    "memory_buffer = deque(maxlen=MEMORY_SIZE)\n",
    "\n",
    "# Set the target network weights equal to the Q-Network weights\n",
    "target_q_network.set_weights(q_network.get_weights())\n",
    "\n",
    "for i in range(num_episodes):\n",
    "    \n",
    "    # Reset the environment to the initial state and get the initial state\n",
    "    state = env.reset()\n",
    "    total_points = 0\n",
    "    \n",
    "    for t in range(max_num_timesteps):\n",
    "        \n",
    "        # From the current state S choose an action A using an ε-greedy policy\n",
    "        state_qn = np.expand_dims(state, axis=0)  # state needs to be the right shape for the q_network\n",
    "        q_values = q_network(state_qn)\n",
    "        action = utils.get_action(q_values, epsilon)\n",
    "        \n",
    "        # Take action A and receive reward R and the next state S'\n",
    "        next_state, reward, done, _ = env.step(action)\n",
    "        \n",
    "        # Store experience tuple (S,A,R,S') in the memory buffer.\n",
    "        # We store the done variable as well for convenience.\n",
    "        memory_buffer.append(experience(state, action, reward, next_state, done))\n",
    "        \n",
    "        # Only update the network every NUM_STEPS_FOR_UPDATE time steps.\n",
    "        update = utils.check_update_conditions(t, NUM_STEPS_FOR_UPDATE, memory_buffer)\n",
    "        \n",
    "        if update:\n",
    "            # Sample random mini-batch of experience tuples (S,A,R,S') from D\n",
    "            experiences = utils.get_experiences(memory_buffer)\n",
    "            \n",
    "            # Set the y targets, perform a gradient descent step,\n",
    "            # and update the network weights.\n",
    "            agent_learn(experiences, GAMMA)\n",
    "        \n",
    "        state = next_state.copy()\n",
    "        total_points += reward\n",
    "        \n",
    "        if done:\n",
    "            break\n",
    "            \n",
    "    total_point_history.append(total_points)\n",
    "    av_latest_points = np.mean(total_point_history[-num_p_av:])\n",
    "    \n",
    "    # Update the ε value\n",
    "    epsilon = utils.get_new_eps(epsilon)\n",
    "\n",
    "    print(f\"\\rEpisode {i+1} | Total point average of the last {num_p_av} episodes: {av_latest_points:.2f}\", end=\"\")\n",
    "\n",
    "    if (i+1) % num_p_av == 0:\n",
    "        print(f\"\\rEpisode {i+1} | Total point average of the last {num_p_av} episodes: {av_latest_points:.2f}\")\n",
    "\n",
    "    # We will consider that the environment is solved if we get an\n",
    "    # average of 200 points in the last 100 episodes.\n",
    "    if av_latest_points >= 200.0:\n",
    "        print(f\"\\n\\nEnvironment solved in {i+1} episodes!\")\n",
    "        q_network.save('lunar_lander_model.h5')\n",
    "        break\n",
    "        \n",
    "tot_time = time.time() - start\n",
    "\n",
    "print(f\"\\nTotal Runtime: {tot_time:.2f} s ({(tot_time/60):.2f} min)\")"
   ]
  },
  {
   "cell_type": "markdown",
   "metadata": {},
   "source": [
    "We can plot the total point history along with the moving average to see how our agent improved during training. If you want to know about the different plotting options available in the `utils.plot_history` function we encourage you to take a look at the `utils` module."
   ]
  },
  {
   "cell_type": "code",
   "execution_count": 46,
   "metadata": {
    "deletable": false,
    "editable": false,
    "id": "E_EUXxurfe8m",
    "scrolled": false
   },
   "outputs": [
    {
     "data": {
      "image/png": "[encoded data removed]",
      "text/plain": [
       "<Figure size 720x504 with 1 Axes>"
      ]
     },
     "metadata": {},
     "output_type": "display_data"
    }
   ],
   "source": [
    "# Plot the total point history along with the moving average\n",
    "utils.plot_history(total_point_history)"
   ]
  },
  {
   "cell_type": "markdown",
   "metadata": {
    "id": "c_xwgaX5MnYt"
   },
   "source": [
    "<a name=\"10\"></a>\n",
    "## 10 - See the Trained Agent In Action\n",
    "\n",
    "Now that we have trained our agent, we can see it in action. We will use the `utils.create_video` function to create a video of our agent interacting with the environment using the trained $Q$-Network. The `utils.create_video` function uses the `imageio` library to create the video. This library produces some warnings that can be distracting, so, to suppress these warnings we run the code below."
   ]
  },
  {
   "cell_type": "code",
   "execution_count": 47,
   "metadata": {
    "deletable": false,
    "editable": false
   },
   "outputs": [],
   "source": [
    "# Suppress warnings from imageio\n",
    "import logging\n",
    "logging.getLogger().setLevel(logging.ERROR)"
   ]
  },
  {
   "cell_type": "markdown",
   "metadata": {},
   "source": [
    "In the cell below we create a video of our agent interacting with the Lunar Lander environment using the trained `q_network`. The video is saved to the `videos` folder with the given `filename`. We use the `utils.embed_mp4` function to embed the video in the Jupyter Notebook so that we can see it here directly without having to download it.\n",
    "\n",
    "We should note that since the lunar lander starts with a random initial force applied to its center of mass, every time you run the cell below you will see a different video. If the agent was trained properly, it should be able to land the lunar lander in the landing pad every time, regardless of the initial force applied to its center of mass."
   ]
  },
  {
   "cell_type": "code",
   "execution_count": 48,
   "metadata": {
    "deletable": false,
    "editable": false,
    "id": "3Ttb_zLeJKiG"
   },
   "outputs": [
    {
     "data": {
      "text/html": [
       "\n",
       "    <video width=\"840\" height=\"480\" controls>\n",
       "    <source src=\"data:video/mp4;base64,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\" type=\"video/mp4\">\n",
       "    Your browser does not support the video tag.\n",
       "    </video>"
      ],
      "text/plain": [
       "<IPython.core.display.HTML object>"
      ]
     },
     "execution_count": 48,
     "metadata": {},
     "output_type": "execute_result"
    }
   ],
   "source": [
    "filename = \"./videos/lunar_lander.mp4\"\n",
    "\n",
    "utils.create_video(filename, env, q_network)\n",
    "utils.embed_mp4(filename)"
   ]
  },
  {
   "cell_type": "markdown",
   "metadata": {},
   "source": [
    "<a name=\"11\"></a>\n",
    "## 11 - Congratulations!\n",
    "\n",
    "You have successfully used Deep Q-Learning with Experience Replay to train an agent to land a lunar lander safely on a landing pad on the surface of the moon. Congratulations!"
   ]
  },
  {
   "cell_type": "markdown",
   "metadata": {},
   "source": [
    "<a name=\"12\"></a>\n",
    "## 12 - References\n",
    "\n",
    "If you would like to learn more about Deep Q-Learning, we recommend you check out the following papers.\n",
    "\n",
    "\n",
    "* Mnih, V., Kavukcuoglu, K., Silver, D. et al. Human-level control through deep reinforcement learning. Nature 518, 529–533 (2015).\n",
    "\n",
    "\n",
    "* Lillicrap, T. P., Hunt, J. J., Pritzel, A., et al. Continuous Control with Deep Reinforcement Learning. ICLR (2016).\n",
    "\n",
    "\n",
    "* Mnih, V., Kavukcuoglu, K., Silver, D. et al. Playing Atari with Deep Reinforcement Learning. arXiv e-prints.  arXiv:1312.5602 (2013)."
   ]
  },
  {
   "cell_type": "markdown",
   "metadata": {},
   "source": [
    "<details>\n",
    "  <summary><font size=\"2\" color=\"darkgreen\"><b>Please click here if you want to experiment with any of the non-graded code.</b></font></summary>\n",
    "    <p><i><b>Important Note: Please only do this when you've already passed the assignment to avoid problems with the autograder.</b></i>\n",
    "    <ol>\n",
    "        <li> On the notebook’s menu, click “View” > “Cell Toolbar” > “Edit Metadata”</li>\n",
    "        <li> Hit the “Edit Metadata” button next to the code cell which you want to lock/unlock</li>\n",
    "        <li> Set the attribute value for “editable” to:\n",
    "            <ul>\n",
    "                <li> “true” if you want to unlock it </li>\n",
    "                <li> “false” if you want to lock it </li>\n",
    "            </ul>\n",
    "        </li>\n",
    "        <li> On the notebook’s menu, click “View” > “Cell Toolbar” > “None” </li>\n",
    "    </ol>\n",
    "    <p> Here's a short demo of how to do the steps above: \n",
    "        <br>\n",
    "        <img src=\"https://lh3.google.com/u/0/d/14Xy_Mb17CZVgzVAgq7NCjMVBvSae3xO1\" align=\"center\" alt=\"unlock_cells.gif\">\n",
    "</details>"
   ]
  }
 ],
 "metadata": {
  "accelerator": "GPU",
  "colab": {
   "collapsed_sections": [],
   "name": "TensorFlow - Lunar Lander.ipynb",
   "provenance": []
  },
  "kernelspec": {
   "display_name": "Python 3",
   "language": "python",
   "name": "python3"
  },
  "language_info": {
   "codemirror_mode": {
    "name": "ipython",
    "version": 3
   },
   "file_extension": ".py",
   "mimetype": "text/x-python",
   "name": "python",
   "nbconvert_exporter": "python",
   "pygments_lexer": "ipython3",
   "version": "3.7.6"
  }
 },
 "nbformat": 4,
 "nbformat_minor": 1
}
